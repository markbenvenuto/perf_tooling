{
 "cells": [
  {
   "cell_type": "code",
   "execution_count": null,
   "metadata": {},
   "outputs": [],
   "source": [
    "import copy\n",
    "import pandas\n",
    "import warnings\n",
    "import subprocess\n",
    "from matplotlib import pyplot as plt\n",
    "import os\n",
    "import sys\n",
    "\n",
    "sys.path.insert(0, \"../src\")"
   ]
  },
  {
   "cell_type": "code",
   "execution_count": null,
   "metadata": {},
   "outputs": [],
   "source": [
    "# Make a pivot table for average latency for load and graph it\n",
    "pd = pandas.read_csv(\"../datasets/genny2/summary.csv\")\n",
    "pd1 = pd.query(\"Query == 'load' & Experiment == 'es2'\")\n",
    "piv = pd1.pivot(index='ContentionFactor', columns=\"ThreadCount\", values=\"AverageLatency\")\n",
    "\n",
    "piv.plot(title=\"ES2 Load: Average Latency\", ylabel=\"Average Latency\")\n"
   ]
  },
  {
   "cell_type": "code",
   "execution_count": null,
   "metadata": {},
   "outputs": [],
   "source": [
    "# Make a pivot table for operation throughput for query and graph it\n",
    "pd = pandas.read_csv(\"../datasets/genny2/summary.csv\")\n",
    "pd1 = pd.query(\"Query == 'load' & Experiment == 'es2'\")\n",
    "piv = pd1.pivot(index='ContentionFactor', columns=\"ThreadCount\", values=\"OperationThroughput\")\n",
    "\n",
    "piv.plot(title=\"ES2 Load: Operation Throughput\", ylabel=\"Operation Throughput\")\n"
   ]
  },
  {
   "cell_type": "code",
   "execution_count": null,
   "metadata": {},
   "outputs": [],
   "source": [
    "# Make a pivot table for average latency for query and graph it\n",
    "pd = pandas.read_csv(\"../datasets/genny2/summary.csv\")\n",
    "pd1 = pd.query(\"QueryNumber == '2' & Experiment == 'es2'\")\n",
    "piv = pd1.pivot(index='ContentionFactor', columns=\"ThreadCount\", values=\"AverageLatency\")\n",
    "piv.plot(title=\"ES2 Query 1: Average Latency\", ylabel=\"Average Latency\")\n"
   ]
  },
  {
   "cell_type": "code",
   "execution_count": null,
   "metadata": {},
   "outputs": [],
   "source": [
    "# Make a pivot table for average latency for query and graph it\n",
    "pd = pandas.read_csv(\"../datasets/genny2/summary.csv\")\n",
    "pd1 = pd.query(\"QueryNumber == '2' & Experiment == 'es2'\")\n",
    "piv = pd1.pivot(index='ContentionFactor', columns=\"ThreadCount\", values=\"OperationThroughput\")\n",
    "piv.plot(title=\"ES2 Query 1: Operation Throughput\", ylabel=\"Operation Throughput\")"
   ]
  },
  {
   "cell_type": "code",
   "execution_count": null,
   "metadata": {},
   "outputs": [],
   "source": []
  }
 ],
 "metadata": {
  "kernelspec": {
   "display_name": "Python 3",
   "language": "python",
   "name": "python3"
  },
  "language_info": {
   "codemirror_mode": {
    "name": "ipython",
    "version": 3
   },
   "file_extension": ".py",
   "mimetype": "text/x-python",
   "name": "python",
   "nbconvert_exporter": "python",
   "pygments_lexer": "ipython3",
   "version": "3.11.0"
  },
  "orig_nbformat": 4,
  "vscode": {
   "interpreter": {
    "hash": "e7370f93d1d0cde622a1f8e1c04877d8463912d04d973331ad4851f04de6915a"
   }
  }
 },
 "nbformat": 4,
 "nbformat_minor": 2
}
